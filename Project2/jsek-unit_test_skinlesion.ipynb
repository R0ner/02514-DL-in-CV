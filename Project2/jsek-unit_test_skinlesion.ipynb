{
 "cells": [
  {
   "cell_type": "code",
   "execution_count": 24,
   "id": "58b2e956",
   "metadata": {},
   "outputs": [
    {
     "name": "stdout",
     "output_type": "stream",
     "text": [
      "The autoreload extension is already loaded. To reload it, use:\n",
      "  %reload_ext autoreload\n"
     ]
    }
   ],
   "source": [
    "%load_ext autoreload\n",
    "%autoreload 2\n",
    "\n",
    "import glob\n",
    "import os\n",
    "\n",
    "import matplotlib.pyplot as plt\n",
    "import model as m\n",
    "import numpy as np\n",
    "import torchvision.transforms as transforms\n",
    "from data import get_skinlesion, standardize_skinlesion_inv"
   ]
  },
  {
   "cell_type": "code",
   "execution_count": 25,
   "id": "78c64e31",
   "metadata": {},
   "outputs": [],
   "source": [
    "train_dataset, val_dataset, test_dataset, train_loader, val_loader, test_loader = get_skinlesion(\n",
    "    batch_size=4, num_workers=4, data_augmentation=True)"
   ]
  },
  {
   "cell_type": "code",
   "execution_count": 26,
   "id": "7b871fd2",
   "metadata": {},
   "outputs": [
    {
     "data": {
      "text/plain": [
       "(160, 20, 20)"
      ]
     },
     "execution_count": 26,
     "metadata": {},
     "output_type": "execute_result"
    }
   ],
   "source": [
    "len(train_dataset), len(val_dataset), len(test_dataset)"
   ]
  },
  {
   "cell_type": "code",
   "execution_count": 27,
   "id": "684585cc",
   "metadata": {},
   "outputs": [
    {
     "data": {
      "text/plain": [
       "(tensor([-0.0003,  0.0002,  0.0001]), tensor([1.0001, 1.0002, 1.0000]))"
      ]
     },
     "execution_count": 27,
     "metadata": {},
     "output_type": "execute_result"
    }
   ],
   "source": [
    "# # This should be run where trainset is not standardized.\n",
    "im, label = train_dataset[0]\n",
    "channel_mean_sum = im.mean((1, 2))\n",
    "channel_std_sum = im.std((1, 2))\n",
    "for i in range(1, len(train_dataset)):\n",
    "    im, label = train_dataset[i]\n",
    "    channel_mean_sum += im.mean((1, 2))\n",
    "    channel_std_sum += im.std((1, 2))\n",
    "\n",
    "channel_mean = channel_mean_sum / len(train_dataset)\n",
    "channel_std = channel_std_sum / len(train_dataset)\n",
    "channel_mean, channel_std"
   ]
  },
  {
   "cell_type": "code",
   "execution_count": null,
   "id": "0bf47cc3",
   "metadata": {},
   "outputs": [],
   "source": [
    "im, label = train_dataset[0]\n",
    "im = standardize_skinlesion_inv(im)\n",
    "fig, (ax0, ax1) = plt.subplots(1, 2, figsize=(6, 3), tight_layout=True)\n",
    "ax0.imshow(np.moveaxis(im.numpy(), 0, 2))\n",
    "ax1.imshow(label.numpy()[0]);"
   ]
  }
 ],
 "metadata": {
  "kernelspec": {
   "display_name": "Python 3 (ipykernel)",
   "language": "python",
   "name": "python3"
  },
  "language_info": {
   "codemirror_mode": {
    "name": "ipython",
    "version": 3
   },
   "file_extension": ".py",
   "mimetype": "text/x-python",
   "name": "python",
   "nbconvert_exporter": "python",
   "pygments_lexer": "ipython3",
   "version": "3.9.11"
  }
 },
 "nbformat": 4,
 "nbformat_minor": 5
}
