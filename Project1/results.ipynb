{
 "cells": [
  {
   "cell_type": "markdown",
   "id": "726fc501-49f4-45d9-b260-c6351fc99630",
   "metadata": {},
   "source": [
    "# Prerequisities"
   ]
  },
  {
   "cell_type": "code",
   "execution_count": 1,
   "id": "9783b386-5a15-4f5c-8c35-642570ed74e7",
   "metadata": {},
   "outputs": [],
   "source": [
    "import json\n",
    "import os\n",
    "\n",
    "import matplotlib.pyplot as plt\n",
    "import numpy as np\n",
    "import seaborn as sns\n",
    "\n",
    "sns.set_theme()"
   ]
  },
  {
   "cell_type": "markdown",
   "id": "3ed2fdc6-248a-4c16-8ee4-113db1179217",
   "metadata": {},
   "source": [
    "# Load stats"
   ]
  },
  {
   "cell_type": "code",
   "execution_count": 4,
   "id": "80018757-822a-4805-a34e-bdafb558d3c7",
   "metadata": {},
   "outputs": [
    {
     "data": {
      "text/plain": [
       "['../models/cnn_4/stats/cnn_4_2.json',\n",
       " '../models/cnn_4/stats/cnn_4_3.json',\n",
       " '../models/cnn_4/stats/cnn_4_0.json',\n",
       " '../models/cnn_4/stats/cnn_4_4.json',\n",
       " '../models/cnn_4/stats/cnn_4_1.json',\n",
       " '../models/resnet9/stats/resnet9_0.json',\n",
       " '../models/resnet9/stats/resnet9_2.json',\n",
       " '../models/resnet9/stats/resnet9_1.json',\n",
       " '../models/resnet9/stats/resnet9_4.json',\n",
       " '../models/resnet9/stats/resnet9_3.json',\n",
       " '../models/rn18_freeze/stats/rn18_freeze_0.json',\n",
       " '../models/rn18/stats/rn18_0.json']"
      ]
     },
     "execution_count": 4,
     "metadata": {},
     "output_type": "execute_result"
    }
   ],
   "source": [
    "models_dir = '../models'\n",
    "json_files = []\n",
    "\n",
    "for model_name in os.listdir(models_dir):\n",
    "    model_dir = os.path.join(models_dir, model_name)\n",
    "    if os.path.isdir(model_dir):\n",
    "        stats_dir = os.path.join(model_dir, 'stats')\n",
    "        for file in os.listdir(stats_dir):\n",
    "            if file.endswith('.json'):\n",
    "                json_files.append(os.path.join(stats_dir, file))\n",
    "\n",
    "json_files"
   ]
  },
  {
   "cell_type": "code",
   "execution_count": 5,
   "id": "28033496-9d2b-49f3-b705-cec5a9f8c765",
   "metadata": {},
   "outputs": [],
   "source": [
    "stats_list = []\n",
    "for fname in json_files:\n",
    "    with open(fname, 'r') as f:\n",
    "        stats_list.append(json.load(f))"
   ]
  }
 ],
 "metadata": {
  "kernelspec": {
   "display_name": "Python 3 (ipykernel)",
   "language": "python",
   "name": "python3"
  },
  "language_info": {
   "codemirror_mode": {
    "name": "ipython",
    "version": 3
   },
   "file_extension": ".py",
   "mimetype": "text/x-python",
   "name": "python",
   "nbconvert_exporter": "python",
   "pygments_lexer": "ipython3",
   "version": "3.9.11"
  }
 },
 "nbformat": 4,
 "nbformat_minor": 5
}
