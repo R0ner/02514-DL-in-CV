{
 "cells": [
  {
   "cell_type": "markdown",
   "id": "2cdb631f-fafd-47db-a21e-e0f19cd47f0f",
   "metadata": {},
   "source": [
    "# Prerequisites"
   ]
  },
  {
   "cell_type": "code",
   "execution_count": 1,
   "id": "c28b616e-7bb2-4bbe-b888-807484c06436",
   "metadata": {},
   "outputs": [],
   "source": [
    "import json\n",
    "import os\n",
    "\n",
    "import CNN\n",
    "import matplotlib.pyplot as plt\n",
    "import numpy as np\n",
    "import seaborn as sns\n",
    "import torch\n",
    "import torch.nn.functional as F\n",
    "from data import get_dataloaders\n",
    "from EarlyStopping import EarlyStopper\n",
    "from pick import pick\n",
    "from torch.optim.lr_scheduler import ExponentialLR, ReduceLROnPlateau\n",
    "from tqdm import tqdm\n",
    "\n",
    "sns.set_style(\"whitegrid\")"
   ]
  },
  {
   "cell_type": "markdown",
   "id": "033f5715-bbe1-4e4a-ab1c-848f4476dee8",
   "metadata": {},
   "source": [
    "# Load stats"
   ]
  },
  {
   "cell_type": "code",
   "execution_count": 6,
   "id": "8605249f-ea2f-4838-ab53-d24e5e11a412",
   "metadata": {},
   "outputs": [],
   "source": [
    "batch_size=64\n",
    "num_workers = 1\n",
    "data_augmentation = False\n",
    "\n",
    "train_dataset, val_dataset, train_loader, val_loader = get_dataloaders(\n",
    "    batch_size, num_workers=num_workers, data_augmentation=data_augmentation)"
   ]
  },
  {
   "cell_type": "code",
   "execution_count": 10,
   "id": "aaf68f42-c5da-4934-9c06-96a3b5d6e4c0",
   "metadata": {},
   "outputs": [],
   "source": [
    "models_dir = '../models'\n",
    "json_files = []\n",
    "\n",
    "# Find jsons\n",
    "for model_name in os.listdir(models_dir):\n",
    "    model_dir = os.path.join(models_dir, model_name)\n",
    "    if os.path.isdir(model_dir):\n",
    "        stats_dir = os.path.join(model_dir, 'stats')\n",
    "        for file in os.listdir(stats_dir):\n",
    "            if file.endswith('.json'):\n",
    "                json_files.append(os.path.join(stats_dir, file))\n",
    "\n",
    "# Load stats\n",
    "stats_list = []\n",
    "for fname in json_files:\n",
    "    with open(fname, 'r') as f:\n",
    "        stats_list.append(json.load(f))\n",
    "\n",
    "# json_files"
   ]
  },
  {
   "cell_type": "markdown",
   "id": "0e78e87e-8a15-4534-b9a4-73d5331acb65",
   "metadata": {},
   "source": [
    "# Model metrics"
   ]
  },
  {
   "cell_type": "code",
   "execution_count": 9,
   "id": "4b02ad6f-c1c3-4efe-a117-4911b3f81c31",
   "metadata": {},
   "outputs": [
    {
     "name": "stdout",
     "output_type": "stream",
     "text": [
      "Using device:\tcpu\n"
     ]
    }
   ],
   "source": [
    "# Check if cuda is available.\n",
    "device = torch.device('cuda' if torch.cuda.is_available() else 'cpu')\n",
    "\n",
    "print(f'Using device:\\t{device}')\n",
    "\n",
    "in_size = (64, 64)  # h, w\n",
    "def get_model(model_type):\n",
    "    if model_type.lower() == 'resnet':\n",
    "        model = CNN.ResNet(3,\n",
    "                           32,\n",
    "                           in_size,\n",
    "                           num_res_blocks=9,\n",
    "                           dropout=dropout,\n",
    "                           BN=BN)\n",
    "    elif model_type.lower() == 'cnn_4':\n",
    "        model = CNN.CNN_4(3, in_size, dropout=dropout, BN=BN)\n",
    "    elif model_type.lower() == 'rn18_freeze':\n",
    "        model = CNN.RN18(True)\n",
    "    elif model_type.lower() == 'rn18':\n",
    "        model = CNN.RN18(False)\n",
    "    model.to(device)"
   ]
  },
  {
   "cell_type": "code",
   "execution_count": 16,
   "id": "9a3925ef-d967-4a56-aa7b-1427b0798e09",
   "metadata": {
    "scrolled": true
   },
   "outputs": [
    {
     "name": "stdout",
     "output_type": "stream",
     "text": [
      "cnn_4_2\n",
      "data_augme:\tTrue\n",
      "optimizer:\tADAM\n",
      "batch_norm:\tFalse\n",
      "\n",
      "\n",
      "../models/cnn_4/checkpoints/cnn_4_2.pt\n",
      "cnn_4_3\n",
      "data_augme:\tTrue\n",
      "optimizer:\tSGD\n",
      "batch_norm:\tTrue\n",
      "\n",
      "\n",
      "../models/cnn_4/checkpoints/cnn_4_3.pt\n",
      "cnn_4_0\n",
      "data_augme:\tTrue\n",
      "optimizer:\tADAM\n",
      "batch_norm:\tTrue\n",
      "\n",
      "\n",
      "../models/cnn_4/checkpoints/cnn_4_0.pt\n",
      "cnn_4_1\n",
      "data_augme:\tFalse\n",
      "optimizer:\tADAM\n",
      "batch_norm:\tTrue\n",
      "\n",
      "\n",
      "../models/cnn_4/checkpoints/cnn_4_1.pt\n",
      "resnet9_0\n",
      "data_augme:\tTrue\n",
      "optimizer:\tADAM\n",
      "batch_norm:\tTrue\n",
      "\n",
      "\n",
      "../models/resnet/checkpoints/resnet9_0.pt\n",
      "resnet9_2\n",
      "data_augme:\tTrue\n",
      "optimizer:\tADAM\n",
      "batch_norm:\tFalse\n",
      "\n",
      "\n",
      "../models/resnet/checkpoints/resnet9_2.pt\n",
      "resnet9_1\n",
      "data_augme:\tFalse\n",
      "optimizer:\tADAM\n",
      "batch_norm:\tTrue\n",
      "\n",
      "\n",
      "../models/resnet/checkpoints/resnet9_1.pt\n",
      "resnet9_3\n",
      "data_augme:\tTrue\n",
      "optimizer:\tSGD\n",
      "batch_norm:\tTrue\n",
      "\n",
      "\n",
      "../models/resnet/checkpoints/resnet9_3.pt\n",
      "rn18_freeze_0\n",
      "data_augme:\tTrue\n",
      "optimizer:\tADAM\n",
      "batch_norm:\tTrue\n",
      "\n",
      "\n",
      "../models/rn18_freeze/checkpoints/rn18_freeze_0.pt\n",
      "rn18_0\n",
      "data_augme:\tTrue\n",
      "optimizer:\tADAM\n",
      "batch_norm:\tTrue\n",
      "\n",
      "\n",
      "../models/rn18/checkpoints/rn18_0.pt\n"
     ]
    }
   ],
   "source": [
    "for stats in stats_list:\n",
    "    model_type = stats['model']\n",
    "    model_name = stats['model_name']\n",
    "    print(model_name)\n",
    "    for k in ['data_augmentation', 'optimizer', 'batch_norm']:\n",
    "        print(f'{k[:10]}:\\t{stats[k]}')\n",
    "    print('\\n')\n",
    "\n",
    "    checkpoint = f'{models_dir}/{model_type}/checkpoints/{model_name}.pt'\n",
    "    "
   ]
  },
  {
   "cell_type": "code",
   "execution_count": null,
   "id": "26826e88-7629-426b-827b-99b254dd5e47",
   "metadata": {},
   "outputs": [],
   "source": [
    "all_labels = [label for _, label in test_dataset]\n",
    "sum(all_labels) / len(all_labels)"
   ]
  },
  {
   "cell_type": "code",
   "execution_count": null,
   "id": "28eabc47-d6dd-4710-a29a-ee92564ce389",
   "metadata": {},
   "outputs": [],
   "source": []
  }
 ],
 "metadata": {
  "kernelspec": {
   "display_name": "Python 3 (ipykernel)",
   "language": "python",
   "name": "python3"
  },
  "language_info": {
   "codemirror_mode": {
    "name": "ipython",
    "version": 3
   },
   "file_extension": ".py",
   "mimetype": "text/x-python",
   "name": "python",
   "nbconvert_exporter": "python",
   "pygments_lexer": "ipython3",
   "version": "3.9.11"
  }
 },
 "nbformat": 4,
 "nbformat_minor": 5
}
